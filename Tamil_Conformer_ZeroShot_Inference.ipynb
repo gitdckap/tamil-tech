{
 "cells": [
  {
   "cell_type": "code",
   "execution_count": 1,
   "metadata": {},
   "outputs": [],
   "source": [
    "from tamil_tech.zero_shot import ConformerTamilASR"
   ]
  },
  {
   "cell_type": "code",
   "execution_count": 2,
   "metadata": {},
   "outputs": [
    {
     "name": "stdout",
     "output_type": "stream",
     "text": [
      "Loaded Model...!\n"
     ]
    }
   ],
   "source": [
    "speech_recognizer = ConformerTamilASR(greedy=False, path='D:/ConformerS.h5')"
   ]
  },
  {
   "cell_type": "code",
   "execution_count": 3,
   "metadata": {},
   "outputs": [
    {
     "name": "stdout",
     "output_type": "stream",
     "text": [
      "Creating Audio stream...\n",
      "Speak!\n",
      "வணக்கம் ஏன் பேரின பேரில் தெரியுதா உன் பெயர் என்னவென்று சொல்ல முடியுமா போதும் போதும் நிறுத்திக்கொள் போனா டே கரைக்கு போக வேண்டும் இன்றைய முக்கியச் சில் வரவாலயே நன்றி இதுபோல் உன்னால் வேறேடாவது செய்ய முடியுமா "
     ]
    }
   ],
   "source": [
    "speech_recognizer()"
   ]
  },
  {
   "cell_type": "code",
   "execution_count": 4,
   "metadata": {},
   "outputs": [
    {
     "name": "stdout",
     "output_type": "stream",
     "text": [
      "Filename: 000020093.wav | என்ன கருமந்திரம் அந்த வாய தொறந்தது தான் எவ்வளவு டாஸ்மாக் காட்டி கொடுக்கிறது \n",
      "Filename: 000020116.wav | முதலில் திமுக கேட்கும் கேள்விகளுக்கு அமைச்சர்கள் பதில் சொல்வார்களா \n",
      "Filename: 000020118.wav | இரண்டு பஸ்வாங்கி கொடுத்து தான் விஜய் டாக்டர் பட்டம் வாங்கினாராமே \n",
      "Filename: 5.wav | சகாரா பாலைவனப் பகுதியிலிருந்து சூரிய ஆற்றல் மூலம் ஐரோப்பாவுக்கு மின்சாரம் \n",
      "Filename: ashwini_audio.wav | மதுரை ஜூ இரவு தமிழகத்தில் காவலியங்களில் பல ஆண்டுகளாக இரண்டு ஆயிரத்தி தொண்ணத்தி இரண்டு வன்கொடுமை வழக்குகள் நிலுவையில் உள்ளன இதில் அம்பது சதவீத வழக்குகள் மட்டுமே கூட்டி குற்றத்திற்கை தாக்கல் செய்யப்பட்டுள்ளது \n"
     ]
    }
   ],
   "source": [
    "speech_recognizer.infer_dir('tests/')"
   ]
  }
 ],
 "metadata": {
  "kernelspec": {
   "display_name": "Python 3",
   "language": "python",
   "name": "python3"
  },
  "language_info": {
   "codemirror_mode": {
    "name": "ipython",
    "version": 3
   },
   "file_extension": ".py",
   "mimetype": "text/x-python",
   "name": "python",
   "nbconvert_exporter": "python",
   "pygments_lexer": "ipython3",
   "version": "3.7.4"
  }
 },
 "nbformat": 4,
 "nbformat_minor": 4
}
