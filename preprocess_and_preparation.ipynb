{
 "cells": [
  {
   "source": [
    "Import required libraries"
   ],
   "cell_type": "markdown",
   "metadata": {}
  },
  {
   "cell_type": "code",
   "execution_count": 1,
   "metadata": {},
   "outputs": [],
   "source": [
    "import os\n",
    "import re\n",
    "import librosa\n",
    "import unicodedata\n",
    "import numpy as np\n",
    "import pandas as pd\n",
    "from tqdm import tqdm"
   ]
  },
  {
   "source": [
    "# Utility functions\n",
    "\n",
    "## preprocess_audio_slr\n",
    "\n",
    "Reads audio file in the specified DATA_DIR and audio name with .wav extension and returns audio file path and duration of the audio file"
   ],
   "cell_type": "markdown",
   "metadata": {}
  },
  {
   "cell_type": "code",
   "execution_count": 2,
   "metadata": {},
   "outputs": [],
   "source": [
    "def preprocess_audio_slr(audio):\n",
    "    audio_file = os.path.join(DATA_DIR, str(audio.split('.')[0]) + '.wav')\n",
    "    y, sr = librosa.load(audio_file, sr=None)\n",
    "    duration = librosa.get_duration(y, sr)\n",
    "    return audio_file, duration"
   ]
  },
  {
   "source": [
    "## clean_text\n",
    "\n",
    "Cleans the text data to remove unnecessary symbols, and english letters. Returns normalized unicode data of the transcript text"
   ],
   "cell_type": "markdown",
   "metadata": {}
  },
  {
   "cell_type": "code",
   "execution_count": 3,
   "metadata": {},
   "outputs": [],
   "source": [
    "def clean_text(text):\n",
    "    text = text.split(' ')\n",
    "    cleaned_text = [re.sub('[!.‌?/\\\\{|},><,,+-_=*(^&%$#@)|:;’\"‘–”\\'abcdefghijklmnopqrstuvwxyzABCDEFGHIJKLMNOPQRSTUVWXYZ]', '', item) for item in text]\n",
    "    text = ' '.join([item for item in cleaned_text if item!=''])\n",
    "    text = unicodedata.normalize(\"NFC\", text)\n",
    "    return text"
   ]
  },
  {
   "source": [
    "## preprocess_slr\n",
    "\n",
    "Reads tsv file form given path, gets audio file names and transcript text. gives exact file path of audio files and cleaned text of the transcript and writes them into a new tsv file in the format used for TensorflowASR\n"
   ],
   "cell_type": "markdown",
   "metadata": {}
  },
  {
   "cell_type": "code",
   "execution_count": 4,
   "metadata": {},
   "outputs": [],
   "source": [
    "def preprocess_slr(df_path, out_path):\n",
    "    df = pd.read_csv(df_path, sep='\\t', encoding='utf-8')\n",
    "    \n",
    "    files = df.path.astype('str').values.tolist()\n",
    "    texts = df.sentence.astype('str').values.tolist()\n",
    "    \n",
    "    print('Pre-processing!')\n",
    "    \n",
    "    transcripts = []\n",
    "    \n",
    "    for i in range(len(df)):\n",
    "        audio_file, duration = preprocess_audio_slr(files[i])\n",
    "        text = clean_text(texts[i])\n",
    "        transcripts.append(f\"{audio_file}\\t{duration:.2f}\\t{text}\\n\")\n",
    "    \n",
    "    with open(out_path, \"w\", encoding=\"utf-8\") as out:\n",
    "        out.write(\"PATH\\tDURATION\\tTRANSCRIPT\\n\")\n",
    "        for line in tqdm(transcripts, desc=\"[Writing]\"):\n",
    "            out.write(line)\n",
    "    \n",
    "    print('Completed!')"
   ]
  },
  {
   "source": [
    "Preprocess and prepare tsv files for new training and testing data"
   ],
   "cell_type": "markdown",
   "metadata": {}
  },
  {
   "cell_type": "code",
   "execution_count": 5,
   "metadata": {},
   "outputs": [
    {
     "name": "stdout",
     "output_type": "stream",
     "text": [
      "Pre-processing!\n"
     ]
    },
    {
     "name": "stderr",
     "output_type": "stream",
     "text": [
      "[Writing]: 100%|███████████████████████████████████████████████████████████████| 1896/1896 [00:00<00:00, 237683.08it/s]\n"
     ]
    },
    {
     "name": "stdout",
     "output_type": "stream",
     "text": [
      "Completed!\n",
      "Pre-processing!\n"
     ]
    },
    {
     "name": "stderr",
     "output_type": "stream",
     "text": [
      "[Writing]: 100%|███████████████████████████████████████████████████████████████| 1638/1638 [00:00<00:00, 541904.87it/s]\n"
     ]
    },
    {
     "name": "stdout",
     "output_type": "stream",
     "text": [
      "Completed!\n",
      "Pre-processing!\n"
     ]
    },
    {
     "name": "stderr",
     "output_type": "stream",
     "text": [
      "[Writing]: 100%|███████████████████████████████████████████████████████████████| 1668/1668 [00:00<00:00, 834657.49it/s]\n"
     ]
    },
    {
     "name": "stdout",
     "output_type": "stream",
     "text": [
      "Completed!\n",
      "Pre-processing!\n"
     ]
    },
    {
     "name": "stderr",
     "output_type": "stream",
     "text": [
      "[Writing]: 100%|█████████████████████████████████████████████████████████████| 12163/12163 [00:00<00:00, 406464.18it/s]\n"
     ]
    },
    {
     "name": "stdout",
     "output_type": "stream",
     "text": [
      "Completed!\n",
      "Pre-processing!\n"
     ]
    },
    {
     "name": "stderr",
     "output_type": "stream",
     "text": [
      "[Writing]: 100%|█████████████████████████████████████████████████████████████████| 538/538 [00:00<00:00, 134911.85it/s]\n"
     ]
    },
    {
     "name": "stdout",
     "output_type": "stream",
     "text": [
      "Completed!\n",
      "Pre-processing!\n"
     ]
    },
    {
     "name": "stderr",
     "output_type": "stream",
     "text": [
      "[Writing]: 100%|███████████████████████████████████████████████████████████████| 5241/5241 [00:00<00:00, 374397.03it/s]"
     ]
    },
    {
     "name": "stdout",
     "output_type": "stream",
     "text": [
      "Completed!\n"
     ]
    },
    {
     "name": "stderr",
     "output_type": "stream",
     "text": [
      "\n"
     ]
    }
   ],
   "source": [
    "DATA_DIR = 'clips/'\n",
    "\n",
    "tsvs = ['train.tsv', 'test.tsv', 'dev.tsv', 'validated.tsv', 'invalidated.tsv', 'other.tsv']\n",
    "\n",
    "for tsv in tsvs:\n",
    "    preprocess_slr(tsv, 'new_' + tsv)"
   ]
  }
 ],
 "metadata": {
  "kernelspec": {
   "display_name": "Python 3",
   "language": "python",
   "name": "python3"
  },
  "language_info": {
   "codemirror_mode": {
    "name": "ipython",
    "version": 3
   },
   "file_extension": ".py",
   "mimetype": "text/x-python",
   "name": "python",
   "nbconvert_exporter": "python",
   "pygments_lexer": "ipython3",
   "version": "3.8.5"
  }
 },
 "nbformat": 4,
 "nbformat_minor": 4
}