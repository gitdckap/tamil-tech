{
 "cells": [
  {
   "cell_type": "code",
   "execution_count": 1,
   "metadata": {
    "scrolled": true
   },
   "outputs": [],
   "source": [
    "from tamil_tech.zero_shot import TamilASR"
   ]
  },
  {
   "cell_type": "code",
   "execution_count": 2,
   "metadata": {},
   "outputs": [
    {
     "name": "stdout",
     "output_type": "stream",
     "text": [
      "Downloading Model...\n",
      "Downloaded Model Successfully...\n",
      "Loaded Model!\n"
     ]
    }
   ],
   "source": [
    "speech_recognizer = TamilASR()"
   ]
  },
  {
   "cell_type": "code",
   "execution_count": 3,
   "metadata": {},
   "outputs": [
    {
     "name": "stdout",
     "output_type": "stream",
     "text": [
      "File: test/1.wav | Transcription: செப்டம்பர் ஐந்து ஆசிரியர் தினம்\n",
      "File: test/2.wav | Transcription: நூறு மீட்டரில்\n",
      "File: test/3.wav | Transcription: மற்ற படங்களைப் பற்றிய செய்திகள் எதுவும் வெளிவரவில்லை\n",
      "File: test/4.wav | Transcription: சிலர் கல்லூரியில் கற்பித்த பேராசிரியரை மறக்க மாட்டார்கள்\n",
      "File: test/5.wav | Transcription: சசகாரப்பாலை பணப்பதது எல்லுரு்து ஸூரிய கற்று மூலம் அரோப்பாவுக்கு மீசரம்\n",
      "File: test/6.wav | Transcription: பசங்க ரெண்டு படத்தை தயாரிக்க என்ன காரணம்\n",
      "File: test/7.wav | Transcription: சதியில் இலங்கை பணிப்பன் உலிசானா நபீ தூக்கிலிஇடப்பட்டார்\n",
      "File: test/8.wav | Transcription: தன்னுடைய பள்ளிப்படிப்பை பள்ளத்தூரிலுள்ள ஒரு ஆரம்பப் பள்ளியில் தொடங்கினார்\n",
      "File: test/9.wav | Transcription: ஆன் லைன் மருந்து வணிகத்திற்கு தடை விதிக்க தமிழ்நாடு மருந்து வணிகர்கள் சங்கம் கோரிக்கை\n",
      "File: test/ashwini_audio.wav | Transcription: மதரைஜியூம் இிரவடத்தி யன் தமிழகத்தில் காவல் இலலங்களில் பல வண்டுகளாக இரண்ட ஆயிரத்தி தொம்மூத்தி இரண்டு வான் கோடமை வழக்குதள் நிலுவையில் உள்ளன இதில் அம்பது சதவீத வாழக்குகள் மட்டு மீ ஹோ்தி கு்றபர் தீரிக்கை தாக்கல் செய்யப்பட்டுள்ளது\n"
     ]
    }
   ],
   "source": [
    "speech_recognizer.infer_dir('test/')"
   ]
  },
  {
   "cell_type": "code",
   "execution_count": 4,
   "metadata": {},
   "outputs": [
    {
     "name": "stdout",
     "output_type": "stream",
     "text": [
      "Creating Audio stream...\n",
      "Speak!\n",
      "பல்கமமவம்சின் கல்நூரியில் கற்பிவவேடாசகயமரகமா்க சில் கல்லுரியி் அரப்விகல்த்கிடா வரர்கமாள் ா் சகானா பாலைகளம் வவதியிரு் நுகூறிஇள்ழஙவமயரவா க மின்சா் ஹசம் விரிங்டும் வழ்கை் ஐயாரிக்கைஎள்ளகார பசங்கரைந்டு வழக்கை் ஐயாழக்கை எல்ள் காரா சவி இங்கை் பரைஅளுதிதி சகளவிக்கோ ுவைாோௌவியில இ இலஙரைப் பாது்பள் சௌரிில இலங்கை வழகளல் மூழி சலரவிக் கோ்விிளாா அொக்கிழா்ளா நூருமைன்அடம் சக்டம்வரந்த ஆசரியர்தளம் ரம்மராயும்ட ஆசவில்மன் வகரை ஜெமிரார் வீழண்து மதைரில் வகரிஹிிிிலிிிி மபரை் நாகுரைஹி ஜோன்ன துடனந்ட மக ் ஜமுபார் பமடம்வா மக் ரரிகோணரர  டங்தைோங்விலி எஙளை அடைகளரி சகாளதிக்யும்லவள்லா ஹ சனிரெண்டு கள்வை் கயார்க எணள்பகா் ஆசண பசள்க ஆசங்கர் இதி வடக் நகையாரக்கை இல்ள க ஆரகம் "
     ]
    }
   ],
   "source": [
    "speech_recognizer()"
   ]
  }
 ],
 "metadata": {
  "kernelspec": {
   "display_name": "Python 3",
   "language": "python",
   "name": "python3"
  },
  "language_info": {
   "codemirror_mode": {
    "name": "ipython",
    "version": 3
   },
   "file_extension": ".py",
   "mimetype": "text/x-python",
   "name": "python",
   "nbconvert_exporter": "python",
   "pygments_lexer": "ipython3",
   "version": "3.7.4"
  }
 },
 "nbformat": 4,
 "nbformat_minor": 2
}
