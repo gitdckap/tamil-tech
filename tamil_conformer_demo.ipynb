{
 "cells": [
  {
   "cell_type": "code",
   "execution_count": 1,
   "metadata": {},
   "outputs": [
    {
     "name": "stderr",
     "output_type": "stream",
     "text": [
      "c:\\program files\\python37\\lib\\site-packages\\librosa\\util\\decorators.py:9: NumbaDeprecationWarning: \u001b[1mAn import was requested from a module that has moved location.\n",
      "Import requested from: 'numba.decorators', please update to use 'numba.core.decorators' or pin to Numba version 0.48.0. This alias will not be present in Numba version 0.50.0.\u001b[0m\n",
      "  from numba.decorators import jit as optional_jit\n",
      "c:\\program files\\python37\\lib\\site-packages\\librosa\\util\\decorators.py:9: NumbaDeprecationWarning: \u001b[1mAn import was requested from a module that has moved location.\n",
      "Import of 'jit' requested from: 'numba.decorators', please update to use 'numba.core.decorators' or pin to Numba version 0.48.0. This alias will not be present in Numba version 0.50.0.\u001b[0m\n",
      "  from numba.decorators import jit as optional_jit\n"
     ]
    }
   ],
   "source": [
    "from test import ConformerTamilASR"
   ]
  },
  {
   "cell_type": "code",
   "execution_count": 2,
   "metadata": {},
   "outputs": [
    {
     "name": "stdout",
     "output_type": "stream",
     "text": [
      "Loaded Model...!\n"
     ]
    }
   ],
   "source": [
    "speech_recognizer = ConformerTamilASR()"
   ]
  },
  {
   "cell_type": "code",
   "execution_count": 3,
   "metadata": {},
   "outputs": [
    {
     "name": "stdout",
     "output_type": "stream",
     "text": [
      "Creating Audio stream...\n",
      "Speak!\n",
      "வணக்கம் ஏன் பேர் என்ன உன் பேரு என்ன கிரிதா "
     ]
    }
   ],
   "source": [
    "speech_recognizer()"
   ]
  },
  {
   "cell_type": "code",
   "execution_count": 4,
   "metadata": {},
   "outputs": [
    {
     "name": "stdout",
     "output_type": "stream",
     "text": [
      "Filename: 000020093.wav | என்ன கருமந்திரம் அந்த வாய தொறந்தது தான் எவ்வளவு டாஸ்மாக் காட்டி கொடுக்கிறது \n",
      "Filename: 000020116.wav | முதலில் திமுக கேட்கும் கேள்விகளுக்கு அமைச்சர்கள் பதில் சொல்வார்களா \n",
      "Filename: 000020118.wav | இரண்டு பஸ்வாங்கி கொடுத்து தான் விஜய் டாக்டர் பட்டம் வாங்கினாராமே \n",
      "Filename: 5.wav | சகாரா பாலைவனப் பகுதியிலிருந்து சூரிய ஆற்றல் மூலம் ஐரோப்பாவுக்கு மின்சாரம் \n",
      "Filename: ashwini_audio.wav | WARNING:tensorflow:5 out of the last 5 calls to <function Transducer.recognize_beam at 0x00000139D76D21F8> triggered tf.function retracing. Tracing is expensive and the excessive number of tracings could be due to (1) creating @tf.function repeatedly in a loop, (2) passing tensors with different shapes, (3) passing Python objects instead of tensors. For (1), please define your @tf.function outside of the loop. For (2), @tf.function has experimental_relax_shapes=True option that relaxes argument shapes that can avoid unnecessary retracing. For (3), please refer to https://www.tensorflow.org/tutorials/customization/performance#python_or_tensor_args and https://www.tensorflow.org/api_docs/python/tf/function for  more details.\n",
      "மதுரை ஜூ இரவு தமிழகத்தில் காவலியங்களில் பல ஆண்டுகளாக இரண்டு ஆயிரத்தி தொண்ணத்தி இரண்டு வன்கொடுமை வழக்குகள் நிலுவையில் உள்ளன இதில் அம்பது சதவீத வழக்குகள் மட்டுமே கூட்டிக் குற்றத்திற்கை தாக்கல் செய்யப்பட்டுள்ளது \n"
     ]
    }
   ],
   "source": [
    "speech_recognizer.infer_dir('tests/')"
   ]
  }
 ],
 "metadata": {
  "kernelspec": {
   "display_name": "Python 3",
   "language": "python",
   "name": "python3"
  },
  "language_info": {
   "codemirror_mode": {
    "name": "ipython",
    "version": 3
   },
   "file_extension": ".py",
   "mimetype": "text/x-python",
   "name": "python",
   "nbconvert_exporter": "python",
   "pygments_lexer": "ipython3",
   "version": "3.7.4"
  }
 },
 "nbformat": 4,
 "nbformat_minor": 4
}
